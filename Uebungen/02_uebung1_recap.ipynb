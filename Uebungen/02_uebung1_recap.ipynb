{
 "cells": [
  {
   "cell_type": "markdown",
   "id": "5d201bbb-a6f6-4a7f-8382-9b6498f9b952",
   "metadata": {},
   "source": [
    "Machine Learning 1, Übung 1"
   ]
  },
  {
   "cell_type": "markdown",
   "id": "9788c5a6-43a0-41ad-b3a9-7f2648de53d0",
   "metadata": {},
   "source": [
    "Programme die wir benötigen"
   ]
  },
  {
   "cell_type": "code",
   "execution_count": 1,
   "id": "a37330d7-ddb7-43f2-900a-dd4d94d2302b",
   "metadata": {
    "tags": []
   },
   "outputs": [],
   "source": [
    "import numpy as np\n",
    "import math\n",
    "import matplotlib.pyplot as plt\n",
    "\n",
    "from sklearn.linear_model import LinearRegression\n",
    "from sklearn.metrics import r2_score"
   ]
  },
  {
   "cell_type": "code",
   "execution_count": 2,
   "id": "90f60245-a1c2-47c9-8755-ead99e6e943b",
   "metadata": {
    "tags": []
   },
   "outputs": [
    {
     "data": {
      "text/plain": [
       "array([3.74540119, 9.50714306, 7.31993942, 5.98658484, 1.5601864 ,\n",
       "       1.5599452 , 0.58083612, 8.66176146, 6.01115012, 7.08072578,\n",
       "       0.20584494, 9.69909852, 8.32442641, 2.12339111, 1.81824967,\n",
       "       1.8340451 , 3.04242243, 5.24756432, 4.31945019, 2.9122914 ])"
      ]
     },
     "execution_count": 2,
     "metadata": {},
     "output_type": "execute_result"
    }
   ],
   "source": [
    "np.random.seed(42)\n",
    "# m bestimmt die Dimension des Array\n",
    "m = 20\n",
    "# Warum multiplizieren wir hier \n",
    "x = np.random.rand(m) * 10\n",
    "y = 3.5 * x + 10 + np.random.randn(m) * 5\n",
    "x"
   ]
  },
  {
   "cell_type": "code",
   "execution_count": 3,
   "id": "94c015a3-e0b9-4bae-b0af-e74614b19fe0",
   "metadata": {
    "tags": []
   },
   "outputs": [
    {
     "data": {
      "text/plain": [
       "array([18.04474856, 44.84623739, 31.07966759, 23.89152844, 22.78889626,\n",
       "       14.33092671, 12.37056745, 33.19242417, 28.31711179, 35.33715317,\n",
       "        4.96548941, 45.82533492, 36.13229898, 15.97340012, 13.35534079,\n",
       "       25.68054877, 20.58099238, 23.07792046, 29.23080021, 14.08880166])"
      ]
     },
     "execution_count": 3,
     "metadata": {},
     "output_type": "execute_result"
    }
   ],
   "source": [
    "y"
   ]
  },
  {
   "cell_type": "code",
   "execution_count": null,
   "id": "b9b6cb8b-a7ad-41df-8e01-9bdfad9088ab",
   "metadata": {},
   "outputs": [],
   "source": []
  }
 ],
 "metadata": {
  "kernelspec": {
   "display_name": "Python 3 (ipykernel)",
   "language": "python",
   "name": "python3"
  },
  "language_info": {
   "codemirror_mode": {
    "name": "ipython",
    "version": 3
   },
   "file_extension": ".py",
   "mimetype": "text/x-python",
   "name": "python",
   "nbconvert_exporter": "python",
   "pygments_lexer": "ipython3",
   "version": "3.8.18"
  }
 },
 "nbformat": 4,
 "nbformat_minor": 5
}
