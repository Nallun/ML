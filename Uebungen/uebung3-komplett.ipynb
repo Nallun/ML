{
 "cells": [
  {
   "cell_type": "markdown",
   "id": "f40b2c4d-14c5-4924-a2ce-5647db08ccf0",
   "metadata": {},
   "source": [
    "# Machine Learning 1, Übung 3\n",
    "(c) 2023 by Harald Bögeholz"
   ]
  },
  {
   "cell_type": "code",
   "execution_count": 21,
   "id": "c4f54377-5747-480c-962a-59463ae4e5c1",
   "metadata": {},
   "outputs": [],
   "source": [
    "import numpy as np\n",
    "\n",
    "np.random.seed(42)\n",
    "m = 25\n",
    "x = np.random.rand(m) * 10 - 5\n",
    "y = 0.5*x*x + x + 3 + np.random.randn(m)"
   ]
  },
  {
   "cell_type": "code",
   "execution_count": 22,
   "id": "14bb6ef9-afc9-49f1-9cef-e5813ade7c12",
   "metadata": {},
   "outputs": [],
   "source": [
    "import math\n",
    "import matplotlib.pyplot as plt\n",
    "\n",
    "x_range = max(x) - min(x)\n",
    "x_min = min(x) - 0.1 * x_range\n",
    "x_max = max(x) + 0.1 * x_range\n",
    "linX = np.linspace(x_min, x_max, num=400)\n",
    "y_range = max(y) - min(y)\n",
    "y_min = min(y) - 0.1 * y_range\n",
    "y_max = max(y) + 0.1 * y_range"
   ]
  },
  {
   "cell_type": "code",
   "execution_count": 23,
   "id": "a44b4fe2-e5b9-4c0d-a533-71ce0aff3f72",
   "metadata": {},
   "outputs": [
    {
     "data": {
      "image/png": "[encoded data removed]",
      "text/plain": [
       "<Figure size 640x480 with 1 Axes>"
      ]
     },
     "metadata": {},
     "output_type": "display_data"
    }
   ],
   "source": [
    "plt.plot(x,y,\"b.\")\n",
    "plt.grid()\n",
    "plt.show()"
   ]
  },
  {
   "cell_type": "code",
   "execution_count": 24,
   "id": "25ab3da9-ba5b-4df9-ae36-f9df34597b1b",
   "metadata": {},
   "outputs": [],
   "source": [
    "from sklearn.linear_model import LinearRegression"
   ]
  },
  {
   "cell_type": "code",
   "execution_count": 25,
   "id": "d22c5334-29d6-457a-92a0-51726456f1cb",
   "metadata": {},
   "outputs": [],
   "source": [
    "model = LinearRegression()"
   ]
  },
  {
   "cell_type": "markdown",
   "id": "c23752cb-dd30-49c2-be29-fcfc5fcd1229",
   "metadata": {},
   "source": [
    "Für das Modell `LinearRegression` müssen wir unseren Datenvektor `x` in eine Matrix mit einer einzigen Spalte überführen:"
   ]
  },
  {
   "cell_type": "code",
   "execution_count": 26,
   "id": "b3e4774a-c538-4107-8521-060f6ed2e9d0",
   "metadata": {},
   "outputs": [],
   "source": [
    "X = x.reshape(-1,1)"
   ]
  },
  {
   "cell_type": "markdown",
   "id": "4d76fd13-2bf6-4930-a7d0-ca544eacf805",
   "metadata": {},
   "source": [
    "Aufteilen in Trainings- und Testdaten:"
   ]
  },
  {
   "cell_type": "code",
   "execution_count": 27,
   "id": "82af4f59-b8be-446d-a194-2a6bd8465cc4",
   "metadata": {},
   "outputs": [],
   "source": [
    "from sklearn.model_selection import train_test_split\n",
    "X_train, X_test, y_train, y_test = train_test_split(X, y, random_state=42, test_size=0.2)"
   ]
  },
  {
   "cell_type": "code",
   "execution_count": 28,
   "id": "8d7f5cd7-a3ca-47c4-bc3e-1a600acfbe86",
   "metadata": {},
   "outputs": [
    {
     "data": {
      "text/plain": [
       "(25, 1)"
      ]
     },
     "execution_count": 28,
     "metadata": {},
     "output_type": "execute_result"
    }
   ],
   "source": [
    "X.shape"
   ]
  },
  {
   "cell_type": "code",
   "execution_count": 29,
   "id": "fa5d0428-284e-4804-bdae-6c7fe2886f5a",
   "metadata": {},
   "outputs": [
    {
     "data": {
      "text/plain": [
       "(20, 1)"
      ]
     },
     "execution_count": 29,
     "metadata": {},
     "output_type": "execute_result"
    }
   ],
   "source": [
    "X_train.shape"
   ]
  },
  {
   "cell_type": "code",
   "execution_count": 30,
   "id": "dca3d000-a087-4326-8af0-19fed494be66",
   "metadata": {},
   "outputs": [
    {
     "data": {
      "text/plain": [
       "(5, 1)"
      ]
     },
     "execution_count": 30,
     "metadata": {},
     "output_type": "execute_result"
    }
   ],
   "source": [
    "X_test.shape"
   ]
  },
  {
   "cell_type": "markdown",
   "id": "77f2aea2-0222-4321-b13e-9f1c5a7b05f5",
   "metadata": {},
   "source": [
    "`PolynomialFeatures` erweitert eine Feature-Matrix um zusätzliche Spalten mit polynomialen Features, in unserem Fall mit Potenzen unseres Vektors."
   ]
  },
  {
   "cell_type": "code",
   "execution_count": 31,
   "id": "e3996486-9c4a-47db-8fec-8af159ab8e1a",
   "metadata": {},
   "outputs": [],
   "source": [
    "from sklearn.preprocessing import PolynomialFeatures"
   ]
  },
  {
   "cell_type": "code",
   "execution_count": 32,
   "id": "74e597e5-c245-4177-9c62-e96b354450fa",
   "metadata": {},
   "outputs": [],
   "source": [
    "poly = PolynomialFeatures(degree=20, include_bias=False)"
   ]
  },
  {
   "cell_type": "code",
   "execution_count": 33,
   "id": "e9e5d80b-3efc-4a9b-9010-600ef391a8c8",
   "metadata": {},
   "outputs": [],
   "source": [
    "X_poly_train = poly.fit_transform(X_train)\n",
    "X_poly_test = poly.fit_transform(X_test)"
   ]
  },
  {
   "cell_type": "code",
   "execution_count": 34,
   "id": "61218b7b-667f-46c4-8212-21808e987793",
   "metadata": {},
   "outputs": [
    {
     "data": {
      "text/html": [
       "<style>#sk-container-id-2 {color: black;}#sk-container-id-2 pre{padding: 0;}#sk-container-id-2 div.sk-toggleable {background-color: white;}#sk-container-id-2 label.sk-toggleable__label {cursor: pointer;display: block;width: 100%;margin-bottom: 0;padding: 0.3em;box-sizing: border-box;text-align: center;}#sk-container-id-2 label.sk-toggleable__label-arrow:before {content: \"▸\";float: left;margin-right: 0.25em;color: #696969;}#sk-container-id-2 label.sk-toggleable__label-arrow:hover:before {color: black;}#sk-container-id-2 div.sk-estimator:hover label.sk-toggleable__label-arrow:before {color: black;}#sk-container-id-2 div.sk-toggleable__content {max-height: 0;max-width: 0;overflow: hidden;text-align: left;background-color: #f0f8ff;}#sk-container-id-2 div.sk-toggleable__content pre {margin: 0.2em;color: black;border-radius: 0.25em;background-color: #f0f8ff;}#sk-container-id-2 input.sk-toggleable__control:checked~div.sk-toggleable__content {max-height: 200px;max-width: 100%;overflow: auto;}#sk-container-id-2 input.sk-toggleable__control:checked~label.sk-toggleable__label-arrow:before {content: \"▾\";}#sk-container-id-2 div.sk-estimator input.sk-toggleable__control:checked~label.sk-toggleable__label {background-color: #d4ebff;}#sk-container-id-2 div.sk-label input.sk-toggleable__control:checked~label.sk-toggleable__label {background-color: #d4ebff;}#sk-container-id-2 input.sk-hidden--visually {border: 0;clip: rect(1px 1px 1px 1px);clip: rect(1px, 1px, 1px, 1px);height: 1px;margin: -1px;overflow: hidden;padding: 0;position: absolute;width: 1px;}#sk-container-id-2 div.sk-estimator {font-family: monospace;background-color: #f0f8ff;border: 1px dotted black;border-radius: 0.25em;box-sizing: border-box;margin-bottom: 0.5em;}#sk-container-id-2 div.sk-estimator:hover {background-color: #d4ebff;}#sk-container-id-2 div.sk-parallel-item::after {content: \"\";width: 100%;border-bottom: 1px solid gray;flex-grow: 1;}#sk-container-id-2 div.sk-label:hover label.sk-toggleable__label {background-color: #d4ebff;}#sk-container-id-2 div.sk-serial::before {content: \"\";position: absolute;border-left: 1px solid gray;box-sizing: border-box;top: 0;bottom: 0;left: 50%;z-index: 0;}#sk-container-id-2 div.sk-serial {display: flex;flex-direction: column;align-items: center;background-color: white;padding-right: 0.2em;padding-left: 0.2em;position: relative;}#sk-container-id-2 div.sk-item {position: relative;z-index: 1;}#sk-container-id-2 div.sk-parallel {display: flex;align-items: stretch;justify-content: center;background-color: white;position: relative;}#sk-container-id-2 div.sk-item::before, #sk-container-id-2 div.sk-parallel-item::before {content: \"\";position: absolute;border-left: 1px solid gray;box-sizing: border-box;top: 0;bottom: 0;left: 50%;z-index: -1;}#sk-container-id-2 div.sk-parallel-item {display: flex;flex-direction: column;z-index: 1;position: relative;background-color: white;}#sk-container-id-2 div.sk-parallel-item:first-child::after {align-self: flex-end;width: 50%;}#sk-container-id-2 div.sk-parallel-item:last-child::after {align-self: flex-start;width: 50%;}#sk-container-id-2 div.sk-parallel-item:only-child::after {width: 0;}#sk-container-id-2 div.sk-dashed-wrapped {border: 1px dashed gray;margin: 0 0.4em 0.5em 0.4em;box-sizing: border-box;padding-bottom: 0.4em;background-color: white;}#sk-container-id-2 div.sk-label label {font-family: monospace;font-weight: bold;display: inline-block;line-height: 1.2em;}#sk-container-id-2 div.sk-label-container {text-align: center;}#sk-container-id-2 div.sk-container {/* jupyter's `normalize.less` sets `[hidden] { display: none; }` but bootstrap.min.css set `[hidden] { display: none !important; }` so we also need the `!important` here to be able to override the default hidden behavior on the sphinx rendered scikit-learn.org. See: https://github.com/scikit-learn/scikit-learn/issues/21755 */display: inline-block !important;position: relative;}#sk-container-id-2 div.sk-text-repr-fallback {display: none;}</style><div id=\"sk-container-id-2\" class=\"sk-top-container\"><div class=\"sk-text-repr-fallback\"><pre>LinearRegression()</pre><b>In a Jupyter environment, please rerun this cell to show the HTML representation or trust the notebook. <br />On GitHub, the HTML representation is unable to render, please try loading this page with nbviewer.org.</b></div><div class=\"sk-container\" hidden><div class=\"sk-item\"><div class=\"sk-estimator sk-toggleable\"><input class=\"sk-toggleable__control sk-hidden--visually\" id=\"sk-estimator-id-2\" type=\"checkbox\" checked><label for=\"sk-estimator-id-2\" class=\"sk-toggleable__label sk-toggleable__label-arrow\">LinearRegression</label><div class=\"sk-toggleable__content\"><pre>LinearRegression()</pre></div></div></div></div></div>"
      ],
      "text/plain": [
       "LinearRegression()"
      ]
     },
     "execution_count": 34,
     "metadata": {},
     "output_type": "execute_result"
    }
   ],
   "source": [
    "poly_model = LinearRegression()\n",
    "poly_model.fit(X_poly_train, y_train)"
   ]
  },
  {
   "cell_type": "code",
   "execution_count": 35,
   "id": "f7fad759-295a-436f-bcb0-afd46e35e6ef",
   "metadata": {},
   "outputs": [
    {
     "data": {
      "image/png": "[encoded data removed]",
      "text/plain": [
       "<Figure size 600x400 with 1 Axes>"
      ]
     },
     "metadata": {},
     "output_type": "display_data"
    }
   ],
   "source": [
    "linX_poly = poly.fit_transform(linX.reshape(-1,1))\n",
    "plt.figure(figsize=(6, 4))\n",
    "plt.ylim(y_min, y_max)\n",
    "plt.plot(X_train, y_train, \"b.\", label=\"Training\")\n",
    "plt.plot(X_test, y_test, \"g.\", label=\"Test\")\n",
    "plt.legend()\n",
    "plt.plot(linX, poly_model.predict(linX_poly), \"r-\")\n",
    "plt.grid()\n",
    "plt.show()"
   ]
  },
  {
   "cell_type": "code",
   "execution_count": 36,
   "id": "343e67f9-1444-435d-99e2-d3f397c06fdf",
   "metadata": {},
   "outputs": [
    {
     "data": {
      "text/plain": [
       "0.9935689728693269"
      ]
     },
     "execution_count": 36,
     "metadata": {},
     "output_type": "execute_result"
    }
   ],
   "source": [
    "poly_model.score(X_poly_train, y_train)"
   ]
  },
  {
   "cell_type": "code",
   "execution_count": 37,
   "id": "99c33b8a-465d-4426-8f66-bdbec03a93f2",
   "metadata": {},
   "outputs": [
    {
     "data": {
      "text/plain": [
       "-51292489105.20307"
      ]
     },
     "execution_count": 37,
     "metadata": {},
     "output_type": "execute_result"
    }
   ],
   "source": [
    "poly_model.score(X_poly_test, y_test)"
   ]
  },
  {
   "cell_type": "markdown",
   "id": "d3819ac3-3106-4834-8cfc-66c738b99c56",
   "metadata": {},
   "source": [
    "Wir probieren mit einer Schleife aus, welcher Wert `d` für den Grad des Polynoms die besten Ergebnisse liefert:"
   ]
  },
  {
   "cell_type": "code",
   "execution_count": 38,
   "id": "ed6940e0-ba4e-4030-80e1-d9e9778e3938",
   "metadata": {},
   "outputs": [
    {
     "name": "stdout",
     "output_type": "stream",
     "text": [
      "Degree 1: train_score=0.37075932547151236 test_score=0.3935031175123398\n",
      "Degree 2: train_score=0.947160732173042 test_score=0.9508311758001708\n",
      "Degree 3: train_score=0.948296180528465 test_score=0.9445163927003276\n",
      "Degree 4: train_score=0.9491829131030985 test_score=0.9371419441845537\n",
      "Degree 5: train_score=0.949183120302665 test_score=0.9372272238611353\n",
      "Degree 6: train_score=0.951244196131095 test_score=0.9441004006474171\n",
      "Degree 7: train_score=0.9540757322111538 test_score=0.9206284776919111\n",
      "Degree 8: train_score=0.9572934885234992 test_score=0.8826083682847112\n",
      "Degree 9: train_score=0.9622879408681574 test_score=0.8673660532228161\n",
      "Degree 10: train_score=0.9636788543547294 test_score=0.6653635627682788\n"
     ]
    }
   ],
   "source": [
    "for d in range(1,11):\n",
    "    poly = PolynomialFeatures(degree=d, include_bias=False)\n",
    "    X_poly_train = poly.fit_transform(X_train)\n",
    "    X_poly_test = poly.fit_transform(X_test)\n",
    "    poly_model = LinearRegression()\n",
    "    poly_model.fit(X_poly_train, y_train)\n",
    "    train_score = poly_model.score(X_poly_train, y_train)\n",
    "    test_score = poly_model.score(X_poly_test, y_test)\n",
    "    print(f\"Degree {d}: {train_score=} {test_score=}\")"
   ]
  },
  {
   "cell_type": "markdown",
   "id": "be6ec793-88a5-49c0-9f79-a53e25e5180a",
   "metadata": {},
   "source": [
    "Wir ersetzen `LinearRegression()` durch `Ridge()`. Dieses hat einen Hyperparameter `alpha`. \n",
    "In einer Schleife probieren wir verschiedene Werte für `alpha`und merken uns den besten."
   ]
  },
  {
   "cell_type": "code",
   "execution_count": 39,
   "id": "1a9b4970-4929-4987-96a2-f681840de271",
   "metadata": {},
   "outputs": [
    {
     "name": "stdout",
     "output_type": "stream",
     "text": [
      "best_alpha=6.9, best_score=0.935\n"
     ]
    }
   ],
   "source": [
    "from sklearn.linear_model import Ridge\n",
    "poly = PolynomialFeatures(degree=10, include_bias=False)\n",
    "X_poly_train = poly.fit_transform(X_train)\n",
    "X_poly_test = poly.fit_transform(X_test)\n",
    "\n",
    "best_alpha = 0\n",
    "best_score = 0\n",
    "alpha = 0.0\n",
    "while alpha < 20.0:\n",
    "    poly_model = Ridge(alpha=alpha)\n",
    "    poly_model.fit(X_poly_train, y_train)\n",
    "    score = poly_model.score(X_poly_test, y_test)\n",
    "    if score > best_score:\n",
    "        best_score = score\n",
    "        best_alpha = alpha\n",
    "    alpha += 0.1\n",
    "print(f\"{best_alpha=:.1f}, {best_score=:.3f}\")"
   ]
  },
  {
   "cell_type": "code",
   "execution_count": null,
   "id": "20b249e1-3ee1-4fb9-8b4c-fce74c7eed1c",
   "metadata": {},
   "outputs": [],
   "source": []
  }
 ],
 "metadata": {
  "kernelspec": {
   "display_name": "Python 3 (ipykernel)",
   "language": "python",
   "name": "python3"
  },
  "language_info": {
   "codemirror_mode": {
    "name": "ipython",
    "version": 3
   },
   "file_extension": ".py",
   "mimetype": "text/x-python",
   "name": "python",
   "nbconvert_exporter": "python",
   "pygments_lexer": "ipython3",
   "version": "3.11.2"
  }
 },
 "nbformat": 4,
 "nbformat_minor": 5
}
