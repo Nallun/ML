{
 "cells": [
  {
   "cell_type": "markdown",
   "id": "f40b2c4d-14c5-4924-a2ce-5647db08ccf0",
   "metadata": {},
   "source": [
    "# Machine Learning 1, Übung 3\n",
    "(c) 2023 by Harald Bögeholz"
   ]
  },
  {
   "cell_type": "code",
   "execution_count": null,
   "id": "c4f54377-5747-480c-962a-59463ae4e5c1",
   "metadata": {},
   "outputs": [],
   "source": [
    "import numpy as np\n",
    "\n",
    "np.random.seed(42)\n",
    "m = 25\n",
    "x = np.random.rand(m) * 10 - 5\n",
    "y = 0.5*x*x + x + 3 + np.random.randn(m)"
   ]
  },
  {
   "cell_type": "code",
   "execution_count": null,
   "id": "14bb6ef9-afc9-49f1-9cef-e5813ade7c12",
   "metadata": {},
   "outputs": [],
   "source": [
    "import math\n",
    "import matplotlib.pyplot as plt\n",
    "\n",
    "x_range = max(x) - min(x)\n",
    "x_min = min(x) - 0.1 * x_range\n",
    "x_max = max(x) + 0.1 * x_range\n",
    "linX = np.linspace(x_min, x_max, num=400)\n",
    "y_range = max(y) - min(y)\n",
    "y_min = min(y) - 0.1 * y_range\n",
    "y_max = max(y) + 0.1 * y_range"
   ]
  },
  {
   "cell_type": "code",
   "execution_count": null,
   "id": "a44b4fe2-e5b9-4c0d-a533-71ce0aff3f72",
   "metadata": {},
   "outputs": [],
   "source": [
    "plt.plot(x,y,\"b.\")\n",
    "plt.grid()\n",
    "plt.show()"
   ]
  },
  {
   "cell_type": "code",
   "execution_count": null,
   "id": "25ab3da9-ba5b-4df9-ae36-f9df34597b1b",
   "metadata": {},
   "outputs": [],
   "source": [
    "from sklearn.linear_model import LinearRegression"
   ]
  },
  {
   "cell_type": "code",
   "execution_count": null,
   "id": "d22c5334-29d6-457a-92a0-51726456f1cb",
   "metadata": {},
   "outputs": [],
   "source": [
    "model = LinearRegression()"
   ]
  },
  {
   "cell_type": "markdown",
   "id": "c23752cb-dd30-49c2-be29-fcfc5fcd1229",
   "metadata": {},
   "source": [
    "Für das Modell `LinearRegression` müssen wir unseren Datenvektor `x` in eine Matrix mit einer einzigen Spalte überführen:"
   ]
  },
  {
   "cell_type": "code",
   "execution_count": null,
   "id": "b3e4774a-c538-4107-8521-060f6ed2e9d0",
   "metadata": {},
   "outputs": [],
   "source": [
    "X = x.reshape(-1,1)"
   ]
  },
  {
   "cell_type": "markdown",
   "id": "4d76fd13-2bf6-4930-a7d0-ca544eacf805",
   "metadata": {},
   "source": [
    "Aufteilen in Trainings- und Testdaten:"
   ]
  },
  {
   "cell_type": "code",
   "execution_count": null,
   "id": "17267497-b287-45e4-98f5-3d064c2738ab",
   "metadata": {},
   "outputs": [],
   "source": [
    "from sklearn.model_selection import train_test_split\n",
    "X_train, X_test, y_train, y_test = train_test_split(X, y, random_state=42)"
   ]
  },
  {
   "cell_type": "code",
   "execution_count": null,
   "id": "1661c08d-c975-4efe-a240-d755e462a8ef",
   "metadata": {},
   "outputs": [],
   "source": [
    "model.fit(X_train, y_train)"
   ]
  },
  {
   "cell_type": "code",
   "execution_count": null,
   "id": "f7fbbb85-f018-44da-b248-33eba8fe2a34",
   "metadata": {},
   "outputs": [],
   "source": [
    "model.score(X_train, y_train)"
   ]
  },
  {
   "cell_type": "code",
   "execution_count": null,
   "id": "6982f9dc-5c64-472f-8f16-946a345dd99d",
   "metadata": {},
   "outputs": [],
   "source": [
    "model.score(X_test, y_test)"
   ]
  },
  {
   "cell_type": "code",
   "execution_count": null,
   "id": "bfc26651-389d-4a4c-9de6-ad48d2455bfa",
   "metadata": {},
   "outputs": [],
   "source": [
    "plt.ylim(y_min, y_max)\n",
    "plt.plot(X_train, y_train, \"b.\", label=\"Training\")\n",
    "plt.plot(X_test, y_test, \"g.\", label=\"Test\")\n",
    "plt.legend()\n",
    "plt.plot(linX, model.predict(linX.reshape(-1,1)), \"r-\")\n",
    "plt.grid()\n",
    "plt.show()"
   ]
  },
  {
   "cell_type": "markdown",
   "id": "77f2aea2-0222-4321-b13e-9f1c5a7b05f5",
   "metadata": {},
   "source": [
    "`PolynomialFeatures` erweitert eine Feature-Matrix um zusätzliche Spalten mit polynomialen Features, in unserem Fall mit Potenzen unseres Vektors."
   ]
  },
  {
   "cell_type": "code",
   "execution_count": null,
   "id": "e3996486-9c4a-47db-8fec-8af159ab8e1a",
   "metadata": {},
   "outputs": [],
   "source": [
    "from sklearn.preprocessing import PolynomialFeatures"
   ]
  },
  {
   "cell_type": "code",
   "execution_count": null,
   "id": "74e597e5-c245-4177-9c62-e96b354450fa",
   "metadata": {},
   "outputs": [],
   "source": [
    "poly = PolynomialFeatures(degree=2, include_bias=False)"
   ]
  },
  {
   "cell_type": "code",
   "execution_count": null,
   "id": "e9e5d80b-3efc-4a9b-9010-600ef391a8c8",
   "metadata": {},
   "outputs": [],
   "source": [
    "X_poly_train = poly.fit_transform(X_train)\n",
    "X_poly_test = poly.fit_transform(X_test)"
   ]
  },
  {
   "cell_type": "code",
   "execution_count": null,
   "id": "61218b7b-667f-46c4-8212-21808e987793",
   "metadata": {},
   "outputs": [],
   "source": [
    "poly_model = LinearRegression()\n",
    "poly_model.fit(X_poly_train, y_train)"
   ]
  },
  {
   "cell_type": "code",
   "execution_count": null,
   "id": "f7fad759-295a-436f-bcb0-afd46e35e6ef",
   "metadata": {},
   "outputs": [],
   "source": [
    "linX_poly = poly.fit_transform(linX.reshape(-1,1))\n",
    "plt.figure(figsize=(6, 4))\n",
    "plt.ylim(y_min, y_max)\n",
    "plt.plot(X_train, y_train, \"b.\", label=\"Training\")\n",
    "plt.plot(X_test, y_test, \"g.\", label=\"Test\")\n",
    "plt.legend()\n",
    "plt.plot(linX, poly_model.predict(linX_poly), \"r-\")\n",
    "plt.grid()\n",
    "plt.show()"
   ]
  },
  {
   "cell_type": "code",
   "execution_count": null,
   "id": "343e67f9-1444-435d-99e2-d3f397c06fdf",
   "metadata": {},
   "outputs": [],
   "source": [
    "poly_model.score(X_poly_train, y_train)"
   ]
  },
  {
   "cell_type": "code",
   "execution_count": null,
   "id": "99c33b8a-465d-4426-8f66-bdbec03a93f2",
   "metadata": {},
   "outputs": [],
   "source": [
    "poly_model.score(X_poly_test, y_test)"
   ]
  },
  {
   "cell_type": "code",
   "execution_count": null,
   "id": "ed6940e0-ba4e-4030-80e1-d9e9778e3938",
   "metadata": {},
   "outputs": [],
   "source": []
  }
 ],
 "metadata": {
  "kernelspec": {
   "display_name": "Python 3 (ipykernel)",
   "language": "python",
   "name": "python3"
  },
  "language_info": {
   "codemirror_mode": {
    "name": "ipython",
    "version": 3
   },
   "file_extension": ".py",
   "mimetype": "text/x-python",
   "name": "python",
   "nbconvert_exporter": "python",
   "pygments_lexer": "ipython3",
   "version": "3.11.2"
  }
 },
 "nbformat": 4,
 "nbformat_minor": 5
}
