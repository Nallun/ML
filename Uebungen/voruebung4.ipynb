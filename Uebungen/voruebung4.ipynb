{
 "cells": [
  {
   "cell_type": "markdown",
   "id": "835bdc96-ee0b-454a-a6ec-deece39ba3d5",
   "metadata": {},
   "source": [
    "# Python-Wiederholung\n",
    "(c) 2023 by Harald Bögeholz"
   ]
  },
  {
   "cell_type": "markdown",
   "id": "4a985576-c146-43f9-b88b-6256001c8e3b",
   "metadata": {},
   "source": [
    "**Aufgabe 1:** Schreibe ein Programm, das die Quadratzahlen x^2 für x von 1 bis 10 ausgibt, also:\n",
    "```\n",
    "1\n",
    "4\n",
    "9\n",
    "25\n",
    "...\n",
    "100\n",
    "```"
   ]
  },
  {
   "cell_type": "code",
   "execution_count": 106,
   "id": "44e397b9-72a8-465e-ad34-9eee28c2e3b5",
   "metadata": {},
   "outputs": [
    {
     "name": "stdout",
     "output_type": "stream",
     "text": [
      "1\n",
      "4\n",
      "9\n",
      "16\n",
      "25\n",
      "36\n",
      "49\n",
      "64\n",
      "81\n",
      "100\n"
     ]
    }
   ],
   "source": [
    "for i in range(1, 11):\n",
    "    print(i*i)"
   ]
  },
  {
   "cell_type": "markdown",
   "id": "c2267f4a-33d2-4e65-8e08-f0635213f13a",
   "metadata": {},
   "source": [
    "**Achtung:** Wenn wir Zahlen bis 10 wollen, müssen wir `range(1, 11)` schreiben. `range(10)` dagegen erzeugt die Zahlen von 0 bis 9."
   ]
  },
  {
   "cell_type": "markdown",
   "id": "d4f96624-4429-4f0e-9883-9b83e613e9cd",
   "metadata": {},
   "source": [
    "**Aufgabe 2:** Schreibe ein Programm, das eine Multiplikationstabelle ausgibt:\n",
    "```\n",
    "1 2 3 4 5 6 7 8 9 10\n",
    "2 4 6 8 10 ... 20\n",
    "...\n",
    "10 20 ... 100\n",
    "```\n",
    "Du brauchst zwei ineinander geschachtelte `for`-Schleifen.\n",
    "Tipp: `print(x, end=\"\")` gibt x aus, ohne eine neue Zeile anzufangen. `print()` fängt eine neue Zeile an."
   ]
  },
  {
   "cell_type": "code",
   "execution_count": 107,
   "id": "4eac0fd4-fe47-4ada-a1ef-e495d9bda2d4",
   "metadata": {},
   "outputs": [
    {
     "name": "stdout",
     "output_type": "stream",
     "text": [
      "1 2 3 4 5 6 7 8 9 10 \n",
      "2 4 6 8 10 12 14 16 18 20 \n",
      "3 6 9 12 15 18 21 24 27 30 \n",
      "4 8 12 16 20 24 28 32 36 40 \n",
      "5 10 15 20 25 30 35 40 45 50 \n",
      "6 12 18 24 30 36 42 48 54 60 \n",
      "7 14 21 28 35 42 49 56 63 70 \n",
      "8 16 24 32 40 48 56 64 72 80 \n",
      "9 18 27 36 45 54 63 72 81 90 \n",
      "10 20 30 40 50 60 70 80 90 100 \n"
     ]
    }
   ],
   "source": [
    "for i in range(1,11):\n",
    "    for j in range(1,11):\n",
    "        print(i*j, end=\" \")\n",
    "    print()"
   ]
  },
  {
   "cell_type": "code",
   "execution_count": 108,
   "id": "30eb072c-c50c-4491-976d-b4e2f2c7ce0e",
   "metadata": {},
   "outputs": [],
   "source": [
    "a = [2., 17., 42., 3., 5., 7., 100., 50.]"
   ]
  },
  {
   "cell_type": "markdown",
   "id": "ac37df44-229c-43a4-9a99-761933f16435",
   "metadata": {},
   "source": [
    "**Aufgabe 2.9:** Schreibe eine `for`-Schleife, die jede Zahl der Liste `a` in einer eigenen Zeile ausgibt."
   ]
  },
  {
   "cell_type": "code",
   "execution_count": 109,
   "id": "e766348c-c481-4d1d-8b70-36798f720880",
   "metadata": {},
   "outputs": [
    {
     "data": {
      "text/plain": [
       "17.0"
      ]
     },
     "execution_count": 109,
     "metadata": {},
     "output_type": "execute_result"
    }
   ],
   "source": [
    "a[1]"
   ]
  },
  {
   "cell_type": "code",
   "execution_count": 110,
   "id": "b795857c-5662-44ea-9c86-b264b7913ef9",
   "metadata": {},
   "outputs": [
    {
     "name": "stdout",
     "output_type": "stream",
     "text": [
      "2.0\n",
      "17.0\n",
      "42.0\n",
      "3.0\n",
      "5.0\n",
      "7.0\n",
      "100.0\n",
      "50.0\n"
     ]
    }
   ],
   "source": [
    "for i in range(len(a)):\n",
    "    print(a[i])"
   ]
  },
  {
   "cell_type": "markdown",
   "id": "3ae042ce-f329-4a90-93a0-b60fbafcbcd5",
   "metadata": {},
   "source": [
    "Oder:"
   ]
  },
  {
   "cell_type": "code",
   "execution_count": 111,
   "id": "9b501370-175d-4cd8-bf2d-6a98200e1325",
   "metadata": {},
   "outputs": [
    {
     "name": "stdout",
     "output_type": "stream",
     "text": [
      "2.0\n",
      "17.0\n",
      "42.0\n",
      "3.0\n",
      "5.0\n",
      "7.0\n",
      "100.0\n",
      "50.0\n"
     ]
    }
   ],
   "source": [
    "for x in a:\n",
    "    print(x)"
   ]
  },
  {
   "cell_type": "markdown",
   "id": "95112e2c-cbf2-488d-9632-b443a79f85fa",
   "metadata": {},
   "source": [
    "**Aufgabe 3:** Berechne die Summe der Zahlen in der Liste `a`. Ausnahmsweise, nur zur Übung: Bitte verwende nicht die Funktion `sum()`, sondern eine `for`-Schleife!"
   ]
  },
  {
   "cell_type": "code",
   "execution_count": 112,
   "id": "8c26b4bc-52b9-49e5-9445-634b90c78dff",
   "metadata": {},
   "outputs": [
    {
     "data": {
      "text/plain": [
       "226.0"
      ]
     },
     "execution_count": 112,
     "metadata": {},
     "output_type": "execute_result"
    }
   ],
   "source": [
    "total = 0.0\n",
    "for i in range(len(a)):\n",
    "    total += a[i]\n",
    "total"
   ]
  },
  {
   "cell_type": "markdown",
   "id": "96b68a6e-f0f1-474e-bcb3-366f42d9e74f",
   "metadata": {},
   "source": [
    "Oder:"
   ]
  },
  {
   "cell_type": "code",
   "execution_count": 113,
   "id": "d3fb508c-65c3-45a3-8b33-9eee87e5b837",
   "metadata": {},
   "outputs": [
    {
     "data": {
      "text/plain": [
       "226.0"
      ]
     },
     "execution_count": 113,
     "metadata": {},
     "output_type": "execute_result"
    }
   ],
   "source": [
    "total = 0.0\n",
    "for x in a:\n",
    "    total += x\n",
    "total"
   ]
  },
  {
   "cell_type": "markdown",
   "id": "3a8925a8-f634-4c99-af93-c273383977f1",
   "metadata": {},
   "source": [
    "**Aufgabe 4:** Berechne den Mittelwert der Zahlen in der Liste `a`. Verwende keine vorgefertigte Funktion, sondern wieder eine `for`-Schleife! $$ \\bar{a} := \\frac{1}{n}\\sum_{i=1}^n a_i $$"
   ]
  },
  {
   "cell_type": "code",
   "execution_count": 114,
   "id": "1f34e074-c939-4037-a255-4cce3512ae33",
   "metadata": {},
   "outputs": [
    {
     "data": {
      "text/plain": [
       "28.25"
      ]
     },
     "execution_count": 114,
     "metadata": {},
     "output_type": "execute_result"
    }
   ],
   "source": [
    "total = 0.0\n",
    "for i in range(len(a)):\n",
    "    total += a[i]\n",
    "average = total / len(a)\n",
    "average"
   ]
  },
  {
   "cell_type": "markdown",
   "id": "33ae2319-71a8-43cd-b009-c3d262a15fff",
   "metadata": {},
   "source": [
    "**Aufgabe 5:** Berechne die Standardabweichung (standard deviation) der Zahlen in der Liste `a`. Verwende keine vorgefertigte Funktion! $$\\sigma := \\sqrt{\\frac{1}{n}\\sum_{i=1}^n (a_i - \\bar{a})^2}$$"
   ]
  },
  {
   "cell_type": "code",
   "execution_count": 115,
   "id": "170a7152-8a9f-451f-9799-60517e6d573f",
   "metadata": {},
   "outputs": [
    {
     "data": {
      "text/plain": [
       "32.123784023679406"
      ]
     },
     "execution_count": 115,
     "metadata": {},
     "output_type": "execute_result"
    }
   ],
   "source": [
    "from math import sqrt # Quadratwurzel\n",
    "total = 0.0\n",
    "for i in range(len(a)):\n",
    "    total += a[i]\n",
    "average = total / len(a)\n",
    "ss = 0.0\n",
    "for i in range(len(a)):\n",
    "    ss += (a[i] - average) ** 2\n",
    "std_dev = sqrt( ss / len(a) )\n",
    "std_dev"
   ]
  },
  {
   "cell_type": "markdown",
   "id": "9143f9e8-caec-434e-a9cd-e7a6d907fc32",
   "metadata": {},
   "source": [
    "**Aufgabe 6:** Betrachte die Liste `a` als Vektor. Berechne die Länge des Vektors.\n",
    "\n",
    "Die Länge eines Vektors ist wie folgt definiert:\n",
    "$$ \\lVert a \\rVert := \\sqrt{\\sum_{i=1}^n a_i^2} $$"
   ]
  },
  {
   "cell_type": "code",
   "execution_count": 116,
   "id": "254a1e12-5586-4ba7-b08c-f3f976297975",
   "metadata": {},
   "outputs": [
    {
     "data": {
      "text/plain": [
       "120.9958676980334"
      ]
     },
     "execution_count": 116,
     "metadata": {},
     "output_type": "execute_result"
    }
   ],
   "source": [
    "square_sum = 0.0\n",
    "for i in range(len(a)):\n",
    "    square_sum += a[i] ** 2\n",
    "norm = sqrt(square_sum)\n",
    "norm"
   ]
  },
  {
   "cell_type": "markdown",
   "id": "9a0b2a01-6107-41a1-a07d-a76d6d2a3dde",
   "metadata": {},
   "source": [
    "## Hintergrund-Info\n",
    "\n",
    "Die Länge eines Vektors wird auch als *Norm* bezeichnet. Wenn nichts anderes gesagt wird, versteht man unter der Norm die sogenannte *euklidische Norm* oder $\\ell^2$-Norm, ausgeschrieben $\\lVert a \\rVert_2$.\n",
    "\n",
    "Es gibt auch andere Normen. Die $\\ell^1$-Norm, auch *Manhattan-Distanz* genannt, ist wie folgt definiert:\n",
    "$$\\lVert a \\rVert_1 = \\sum_{i=1}^n |a_i|$$\n",
    "\n",
    "Die *Supremumsnorm* $\\ell^\\infty$ ist wie folgt definiert:\n",
    "$$\\lVert a \\rVert_\\infty = \\max_i |a_i|$$"
   ]
  },
  {
   "cell_type": "markdown",
   "id": "943bc0c4-6183-4fe4-a1bc-5aba7e2d1af7",
   "metadata": {},
   "source": [
    "## Das Ganze mit numpy:"
   ]
  },
  {
   "cell_type": "code",
   "execution_count": 117,
   "id": "9e75b66e-23b4-4007-8610-f8edaf7d354f",
   "metadata": {},
   "outputs": [
    {
     "data": {
      "text/plain": [
       "array([  2.,  17.,  42.,   3.,   5.,   7., 100.,  50.])"
      ]
     },
     "execution_count": 117,
     "metadata": {},
     "output_type": "execute_result"
    }
   ],
   "source": [
    "A = np.array(a)\n",
    "A"
   ]
  },
  {
   "cell_type": "markdown",
   "id": "ffb3f174-04da-461a-91d8-90563b672eea",
   "metadata": {},
   "source": [
    "Mittelwert (average, mean):"
   ]
  },
  {
   "cell_type": "code",
   "execution_count": 118,
   "id": "83ee723e-439b-46d8-9e87-51c1f0433cd4",
   "metadata": {},
   "outputs": [
    {
     "data": {
      "text/plain": [
       "28.25"
      ]
     },
     "execution_count": 118,
     "metadata": {},
     "output_type": "execute_result"
    }
   ],
   "source": [
    "A.mean()"
   ]
  },
  {
   "cell_type": "markdown",
   "id": "20d3befe-3db0-4742-acb4-9d91d7abd1cc",
   "metadata": {},
   "source": [
    "Standardabweichung (standard deviation):"
   ]
  },
  {
   "cell_type": "code",
   "execution_count": 119,
   "id": "6c56eb7a-f79f-42c9-bf6e-bd041d8e5c59",
   "metadata": {},
   "outputs": [
    {
     "data": {
      "text/plain": [
       "32.123784023679406"
      ]
     },
     "execution_count": 119,
     "metadata": {},
     "output_type": "execute_result"
    }
   ],
   "source": [
    "A.std()"
   ]
  },
  {
   "cell_type": "markdown",
   "id": "7de079a4-03b5-4201-a8ee-7395b9019719",
   "metadata": {},
   "source": [
    "Länge eines Vektors (euklidische Norm):"
   ]
  },
  {
   "cell_type": "code",
   "execution_count": 120,
   "id": "f4898590-7aee-4283-b635-40963a0e49d2",
   "metadata": {},
   "outputs": [
    {
     "data": {
      "text/plain": [
       "120.9958676980334"
      ]
     },
     "execution_count": 120,
     "metadata": {},
     "output_type": "execute_result"
    }
   ],
   "source": [
    "np.linalg.norm(A)"
   ]
  },
  {
   "cell_type": "code",
   "execution_count": 121,
   "id": "fce1b389-e535-4e99-86c2-da3d6cf29b1f",
   "metadata": {},
   "outputs": [
    {
     "data": {
      "text/plain": [
       "array([  2.,  17.,  42.,   3.,   5.,   7., 100.,  50.])"
      ]
     },
     "execution_count": 121,
     "metadata": {},
     "output_type": "execute_result"
    }
   ],
   "source": [
    "A"
   ]
  },
  {
   "cell_type": "markdown",
   "id": "c3417fcf-0dd7-463f-9518-e4f73d6009e7",
   "metadata": {},
   "source": [
    "Wenn wir von unserer Liste den Mittelwert abziehen und dann durch die Standardabweichung dividieren, erhalten wir eine neue, skalierte Liste, deren Mittelwert 0 und deren Standardabweichung 1 ist:"
   ]
  },
  {
   "cell_type": "code",
   "execution_count": 122,
   "id": "1bc67acd-3e88-49d2-8cda-be6738bcf1be",
   "metadata": {},
   "outputs": [
    {
     "data": {
      "text/plain": [
       "array([-0.81715155, -0.35020781,  0.42803177, -0.78602197, -0.7237628 ,\n",
       "       -0.66150364,  2.23354758,  0.67706843])"
      ]
     },
     "execution_count": 122,
     "metadata": {},
     "output_type": "execute_result"
    }
   ],
   "source": [
    "A0 = (A - A.mean()) / A.std()\n",
    "A0"
   ]
  },
  {
   "cell_type": "code",
   "execution_count": 123,
   "id": "a88c48e0-9f96-43b7-8ec6-511e9a50a703",
   "metadata": {},
   "outputs": [
    {
     "data": {
      "text/plain": [
       "-2.7755575615628914e-17"
      ]
     },
     "execution_count": 123,
     "metadata": {},
     "output_type": "execute_result"
    }
   ],
   "source": [
    "A0.mean()"
   ]
  },
  {
   "cell_type": "code",
   "execution_count": 124,
   "id": "8e1aa556-e1fe-40f2-9750-5c1c319b68e1",
   "metadata": {},
   "outputs": [
    {
     "data": {
      "text/plain": [
       "0.9999999999999999"
      ]
     },
     "execution_count": 124,
     "metadata": {},
     "output_type": "execute_result"
    }
   ],
   "source": [
    "A0.std()"
   ]
  },
  {
   "cell_type": "code",
   "execution_count": null,
   "id": "f3a910e8-9f6d-44f5-bf9a-46b68f922afc",
   "metadata": {},
   "outputs": [],
   "source": []
  }
 ],
 "metadata": {
  "kernelspec": {
   "display_name": "Python 3 (ipykernel)",
   "language": "python",
   "name": "python3"
  },
  "language_info": {
   "codemirror_mode": {
    "name": "ipython",
    "version": 3
   },
   "file_extension": ".py",
   "mimetype": "text/x-python",
   "name": "python",
   "nbconvert_exporter": "python",
   "pygments_lexer": "ipython3",
   "version": "3.11.2"
  }
 },
 "nbformat": 4,
 "nbformat_minor": 5
}
