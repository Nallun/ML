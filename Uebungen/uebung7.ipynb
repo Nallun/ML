{
 "cells": [
  {
   "cell_type": "markdown",
   "id": "113ed1fc-cb16-47d2-b8c9-be9b760c99f8",
   "metadata": {},
   "source": [
    "# Machine Learning 1 – Übung 7\n",
    "(c)2023 by Harald Bögeholz\n",
    "\n",
    "---"
   ]
  },
  {
   "cell_type": "markdown",
   "id": "b6a9cdb3-2971-4a41-ad26-a773c047a1e5",
   "metadata": {},
   "source": [
    "Heute arbeiten wir mit einem Datensatz über Brustkrebs. Er ist bei scikit-learn mitgeliefert.\n",
    "Bitte schauen Sie einmal in die [Beschreibung in der scikit-learn-Dokumentation](https://scikit-learn.org/stable/datasets/toy_dataset.html#breast-cancer-dataset)."
   ]
  },
  {
   "cell_type": "code",
   "execution_count": null,
   "id": "c05a8538-3730-4902-b5bf-270d6d311cb5",
   "metadata": {},
   "outputs": [],
   "source": [
    "from sklearn.datasets import load_breast_cancer\n",
    "data = load_breast_cancer()\n",
    "X = data.data\n",
    "y = data.target\n",
    "X.shape"
   ]
  },
  {
   "cell_type": "code",
   "execution_count": null,
   "id": "ad05d7c9-eb35-42ed-b13f-f11aea028d06",
   "metadata": {},
   "outputs": [],
   "source": []
  }
 ],
 "metadata": {
  "kernelspec": {
   "display_name": "Python 3 (ipykernel)",
   "language": "python",
   "name": "python3"
  },
  "language_info": {
   "codemirror_mode": {
    "name": "ipython",
    "version": 3
   },
   "file_extension": ".py",
   "mimetype": "text/x-python",
   "name": "python",
   "nbconvert_exporter": "python",
   "pygments_lexer": "ipython3",
   "version": "3.11.2"
  }
 },
 "nbformat": 4,
 "nbformat_minor": 5
}
