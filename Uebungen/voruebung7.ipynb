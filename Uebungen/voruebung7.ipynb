{
 "cells": [
  {
   "cell_type": "markdown",
   "id": "59ecf261-a0da-4090-abf7-6e8f47b682e8",
   "metadata": {},
   "source": [
    "# Machine Learning 1 – Vorübung 7\n",
    "(c)2023 by Harald Bögeholz\n",
    "\n",
    "---"
   ]
  },
  {
   "cell_type": "markdown",
   "id": "9b5518a0-70a8-456e-a1e7-66f304a6b8fa",
   "metadata": {},
   "source": [
    "Hier sind zwei gleich lange Strings:"
   ]
  },
  {
   "cell_type": "code",
   "execution_count": null,
   "id": "8c3314b0-e633-4c31-94b7-42b88ca7d545",
   "metadata": {},
   "outputs": [],
   "source": [
    "s1 = 'JNNNNJJJNNNJNNNNJNNJNNNNJNNNNJNNNJNJJJNJNJJJNNJJJN'\n",
    "s2 = 'JNNNJJNJNNJJJJNNNNJJNJNNJJNNJJNNNJNJNJNJNJNNJNJJJN'"
   ]
  },
  {
   "cell_type": "markdown",
   "id": "37b27476-fc66-49cd-b9b0-dd7b912360a5",
   "metadata": {},
   "source": [
    "**Aufgabe 1:** Schreibe Python-Code, der die Anzahl der `'J'` in `s1` und `s2` zählt. Schreibe dann Code, der die Anzahl der `'N'` zählt."
   ]
  },
  {
   "cell_type": "code",
   "execution_count": null,
   "id": "eade72fd-4eb4-4b43-a1e1-87eccf97f74a",
   "metadata": {},
   "outputs": [],
   "source": []
  },
  {
   "cell_type": "markdown",
   "id": "9e7af9b2-dcd8-4299-842f-ecfba3eb8bd1",
   "metadata": {},
   "source": [
    "**Aufgabe 2:** Schreibe Python-Code, der zählt, an wie vielen Stellen `s1` und `s2` übereinstimmen. Schreibe außerdem Code, der zählt, an wie vielen Stellen `s1` und `s2` verschieden sind."
   ]
  },
  {
   "cell_type": "code",
   "execution_count": null,
   "id": "2b9fbf13-8837-4462-9059-7a36364c6b59",
   "metadata": {},
   "outputs": [],
   "source": []
  },
  {
   "cell_type": "markdown",
   "id": "042e90ee-3437-4518-99fa-3e112b01fb59",
   "metadata": {},
   "source": [
    "**Aufgabe 3:** Schreibe Python-Code, der die Strings jeweils in eine Liste von Zahlen übersetzt: Aus `J` soll die Zahl 1 werden und\n",
    "aus `N` die Zahl 0. Speichere die beiden Listen als `y1` und `y2`."
   ]
  },
  {
   "cell_type": "code",
   "execution_count": null,
   "id": "2315abf4-6c7d-455c-aa60-73ba23e298c8",
   "metadata": {},
   "outputs": [],
   "source": []
  },
  {
   "cell_type": "markdown",
   "id": "bb2b5131-0f17-4c42-9b1c-a67d31770808",
   "metadata": {},
   "source": [
    "**Aufgabe 4:** Für jeden Index `i` gibt es vier Möglichkeiten für die Zeichen `s1[i]` und `s2[i]` aus den beiden Strings:\n",
    "* (J, J)\n",
    "* (J, N)\n",
    "* (N, J)\n",
    "* (N, N)\n",
    "\n",
    "Schreibe Python-Code, der zählt, wie oft diese vier Möglichkeiten jeweils auftreten.\n",
    "Das Ergebnis soll eine Matrix sein, in der die Werte wie folgt angeordnet sind:\n",
    "$$\\begin{pmatrix} \\#(J, J) & \\#(J, N) \\\\ \\#(N, J) & \\#(N, N) \\end{pmatrix}$$\n",
    "Dabei steht $\\#(J, J)$ für die Anzahl der Paare $(J, J)$ und so weiter.\n",
    "Die Matrix soll in Python wie üblich als Liste von Listen dargestellt werden: Jede Zeile steht in einer Liste innerhalb der äußeren Liste."
   ]
  },
  {
   "cell_type": "code",
   "execution_count": null,
   "id": "0119993d-bea9-406b-badc-74280d5d3a61",
   "metadata": {},
   "outputs": [],
   "source": []
  },
  {
   "cell_type": "markdown",
   "id": "36621e62-937c-414d-8402-5f608ca8b14b",
   "metadata": {},
   "source": [
    "**Aufgabe 5:** Mit Deinen beiden Listen `y1` und `y2` aus Aufgabe 3 probiere jetzt die Funktion \n",
    "[sklearn.metrics.confusion_matrix](https://scikit-learn.org/stable/modules/generated/sklearn.metrics.confusion_matrix.html)\n",
    "aus scikit-learn aus. "
   ]
  },
  {
   "cell_type": "code",
   "execution_count": null,
   "id": "e6bd86c3-6bcc-4a70-b2a1-53eaaf9b8583",
   "metadata": {},
   "outputs": [],
   "source": [
    "from sklearn.metrics import confusion_matrix\n",
    "confusion_matrix(y1, y2)"
   ]
  },
  {
   "cell_type": "markdown",
   "id": "706badd2-62fa-4fe7-b314-033c187fb701",
   "metadata": {},
   "source": [
    "Vergleiche das Ergebnis mit Deinem Ergebnis aus Aufgabe 4."
   ]
  },
  {
   "cell_type": "code",
   "execution_count": null,
   "id": "48a18e00-100f-4fba-8384-3b5aa6584e94",
   "metadata": {},
   "outputs": [],
   "source": []
  }
 ],
 "metadata": {
  "kernelspec": {
   "display_name": "Python 3 (ipykernel)",
   "language": "python",
   "name": "python3"
  },
  "language_info": {
   "codemirror_mode": {
    "name": "ipython",
    "version": 3
   },
   "file_extension": ".py",
   "mimetype": "text/x-python",
   "name": "python",
   "nbconvert_exporter": "python",
   "pygments_lexer": "ipython3",
   "version": "3.11.2"
  }
 },
 "nbformat": 4,
 "nbformat_minor": 5
}
