{
 "cells": [
  {
   "cell_type": "markdown",
   "id": "52810d2d-8a94-4092-a40f-bf65c205fd48",
   "metadata": {},
   "source": [
    "# Machine Learning 1 – Vorübung 6\n",
    "(c) 2023 by Harald Bögeholz\n",
    "\n",
    "---"
   ]
  },
  {
   "cell_type": "code",
   "execution_count": 1,
   "id": "b35a4662-263b-43d9-a574-029aca55e3b5",
   "metadata": {},
   "outputs": [],
   "source": [
    "sample_list = [7.5, 2.3, 20.7, 100.4, 23.5, 64.6, 97.6, 50.2, 33.3, 44.4]"
   ]
  },
  {
   "cell_type": "markdown",
   "id": "f64b4946-29da-421c-a25a-be681cf38431",
   "metadata": {},
   "source": [
    "**Aufgabe 1:** Schreibe eine Python-Funktion `find_max(xs)`, die die größte Zahl in einer Liste `xs` \n",
    "findet. Die Funktion soll ein Tupel zurückliefern, \n",
    "bestehend aus dem Index der größten Zahl innhalb der Liste und der Zahl selbst.\n",
    "\n",
    "Beispiel: `find_max(sample_list)` soll das Tupel `(3, 100.4)` liefern."
   ]
  },
  {
   "cell_type": "code",
   "execution_count": 2,
   "id": "3b105da5-c05d-4271-95d6-67cf66627bf4",
   "metadata": {},
   "outputs": [],
   "source": [
    "def find_max(xs):\n",
    "    result_max = xs[0]\n",
    "    result_i = 0\n",
    "    for i in range(len(xs)):\n",
    "        if xs[i] > result_max:\n",
    "            result_max = xs[i]\n",
    "            result_i = i\n",
    "\n",
    "    return result_i, result_max"
   ]
  },
  {
   "cell_type": "markdown",
   "id": "f6dca8f5-e9f1-4166-8cbf-cf323c38367b",
   "metadata": {},
   "source": [
    "Teste Deine Funktion, indem Du die folgende Zelle ausführst:"
   ]
  },
  {
   "cell_type": "code",
   "execution_count": 3,
   "id": "67de9281-fb78-431a-af5f-27696aa1680e",
   "metadata": {},
   "outputs": [
    {
     "data": {
      "text/plain": [
       "(3, 100.4)"
      ]
     },
     "execution_count": 3,
     "metadata": {},
     "output_type": "execute_result"
    }
   ],
   "source": [
    "find_max(sample_list)"
   ]
  },
  {
   "cell_type": "markdown",
   "id": "c75c768b-2e67-43cb-b9dd-607b4d796a19",
   "metadata": {},
   "source": [
    "Alternative Lösung:"
   ]
  },
  {
   "cell_type": "code",
   "execution_count": 4,
   "id": "f0401148-184d-41fe-9a95-b4d72422ec9e",
   "metadata": {},
   "outputs": [],
   "source": [
    "def find_max(xs):\n",
    "    result_max = max(xs)\n",
    "    result_i = xs.index(result_max)\n",
    "    return result_i, result_max"
   ]
  },
  {
   "cell_type": "code",
   "execution_count": 5,
   "id": "6ce8be73-60bf-41ca-b1ca-d433873df90a",
   "metadata": {},
   "outputs": [
    {
     "data": {
      "text/plain": [
       "(3, 100.4)"
      ]
     },
     "execution_count": 5,
     "metadata": {},
     "output_type": "execute_result"
    }
   ],
   "source": [
    "find_max(sample_list)"
   ]
  },
  {
   "cell_type": "markdown",
   "id": "6d6f3254-8df6-40fa-8362-e30f8676faf1",
   "metadata": {},
   "source": [
    "In der Regel ist es besser, eingebaute Python-Funktionen zu benutzen statt eine eigene `for`-Schleife zu programmieren.\n",
    "Diese alternative Lösung hat allerdings den kleinen Nachteil, dass die Liste zweimal durchsucht wird:\n",
    "Einmal um das Maximum zu bestimmen und dann ein zweites Mal, um den Index des gefundenen Maximums zu ermitteln."
   ]
  },
  {
   "cell_type": "markdown",
   "id": "693cd761-3623-49a8-a781-5a27008dc891",
   "metadata": {},
   "source": [
    "**Aufgabe 2:** Schreibe eine Python-Funktion `find_nearest(xs, x)`, die in einer Liste `xs` nach dem Wert `x` sucht und den *Index* des nächstgelegenen Werts in der Liste zurückgibt. (Die Python-Funktion `abs(x)` liefert den Betrag von $x$, also $|x|$.)\n",
    "\n",
    "Beispiele: \n",
    "* `find_nearest(sample_list, 50)` ergibt 7.\n",
    "* `find_nearest(sample_list, 20)` ergibt 2."
   ]
  },
  {
   "cell_type": "code",
   "execution_count": 6,
   "id": "bfe5640b-483a-41d4-8ef3-5920ad0dbe21",
   "metadata": {},
   "outputs": [],
   "source": [
    "def find_nearest(xs, x):\n",
    "    nearest_i = 0\n",
    "    nearest_dist = abs(xs[0] - x)\n",
    "    for i in range(len(xs)):\n",
    "        if abs(xs[i] - x) < nearest_dist:\n",
    "            nearest_i = i\n",
    "            nearest_dist = abs(xs[i] - x)\n",
    "    return nearest_i"
   ]
  },
  {
   "cell_type": "markdown",
   "id": "401ae938-6c57-4114-b21f-07ada3887f9b",
   "metadata": {},
   "source": [
    "Teste Deine Funktion, indem Du die folgenden beiden Zellen ausführst:"
   ]
  },
  {
   "cell_type": "code",
   "execution_count": 7,
   "id": "59336194-4121-4d92-96ee-60d9b12d369b",
   "metadata": {},
   "outputs": [
    {
     "data": {
      "text/plain": [
       "7"
      ]
     },
     "execution_count": 7,
     "metadata": {},
     "output_type": "execute_result"
    }
   ],
   "source": [
    "find_nearest(sample_list, 50)"
   ]
  },
  {
   "cell_type": "code",
   "execution_count": 8,
   "id": "a743e681-eb74-42dc-a553-9a84b22afba3",
   "metadata": {},
   "outputs": [
    {
     "data": {
      "text/plain": [
       "2"
      ]
     },
     "execution_count": 8,
     "metadata": {},
     "output_type": "execute_result"
    }
   ],
   "source": [
    "find_nearest(sample_list, 19)"
   ]
  },
  {
   "cell_type": "markdown",
   "id": "d7cfe370-2d1d-4efb-a659-e51274a1be04",
   "metadata": {},
   "source": [
    "Alternative Lösung:"
   ]
  },
  {
   "cell_type": "code",
   "execution_count": 9,
   "id": "83d02849-875b-484e-8d41-d33021aaed83",
   "metadata": {},
   "outputs": [],
   "source": [
    "def find_nearest(xs, x):\n",
    "    diff_l = [abs(y-x) for y in xs]\n",
    "    nearest_diff = min(diff_l)\n",
    "    nearest_i = diff_l.index(nearest_diff)\n",
    "    return nearest_i"
   ]
  },
  {
   "cell_type": "markdown",
   "id": "9f5783d3-07cc-49da-9587-4fa36f6a03a6",
   "metadata": {},
   "source": [
    "Nur für Fortgeschrittene:"
   ]
  },
  {
   "cell_type": "code",
   "execution_count": 10,
   "id": "b5dac9fe-6e7e-498a-9ff0-89c6a6fe047d",
   "metadata": {},
   "outputs": [],
   "source": [
    "def find_nearest(xs, x):\n",
    "    return min(range(len(xs)), key = lambda i: abs(x-xs[i]))"
   ]
  },
  {
   "cell_type": "markdown",
   "id": "2641d8a0-df69-4037-bcf8-e058cbae4d6b",
   "metadata": {},
   "source": [
    "**Aufgabe 3:** Schreibe eine Python-Funktion `find_nearest_2(xs, x)`, die in einer Liste `xs` nach dem Wert `x`.\n",
    "Sie soll eine Liste mit den *Indices* der beiden Elemente in `xs` zurückgeben, die `x` am nächsten liegen.\n",
    "\n",
    "Beispiele:\n",
    "* `find_nearest_2(sample_list, 42)` ergibt `[9, 7]`\n",
    "* `find_nearest_2(sample_list, 10)` ergibt `[0, 1]`"
   ]
  },
  {
   "cell_type": "markdown",
   "id": "aef393b4-4521-4c2f-92d9-f624a3f4a9f7",
   "metadata": {},
   "source": [
    "Dies ist die Lösung von Fahim:"
   ]
  },
  {
   "cell_type": "code",
   "execution_count": 11,
   "id": "8d17e887-8577-4a99-a339-cc8db2dfbc26",
   "metadata": {},
   "outputs": [],
   "source": [
    "def find_nearest_2(xs, x):\n",
    "    diff_l = [abs(y-x) for y in xs]\n",
    "    nearest_diff = min(diff_l)\n",
    "    nearest_diff_2 = min(d for d in diff_l if d != nearest_diff)\n",
    "    return [diff_l.index(nearest_diff), diff_l.index(nearest_diff_2)]"
   ]
  },
  {
   "cell_type": "markdown",
   "id": "824750a1-dce7-4309-8deb-064d2d5764e3",
   "metadata": {},
   "source": [
    "Teste Deine Funktion, indem Du die folgenden beiden Zellen ausführst:"
   ]
  },
  {
   "cell_type": "code",
   "execution_count": 12,
   "id": "f4fcffff-48e3-41da-aa89-8967752e0ad0",
   "metadata": {},
   "outputs": [
    {
     "data": {
      "text/plain": [
       "[9, 7]"
      ]
     },
     "execution_count": 12,
     "metadata": {},
     "output_type": "execute_result"
    }
   ],
   "source": [
    "find_nearest_2(sample_list, 42)"
   ]
  },
  {
   "cell_type": "code",
   "execution_count": 13,
   "id": "7ad563b8-33e0-4718-bdd9-f89f1f6af33e",
   "metadata": {},
   "outputs": [
    {
     "data": {
      "text/plain": [
       "[0, 1]"
      ]
     },
     "execution_count": 13,
     "metadata": {},
     "output_type": "execute_result"
    }
   ],
   "source": [
    "find_nearest_2(sample_list, 10)"
   ]
  },
  {
   "cell_type": "markdown",
   "id": "b900fb24-cb74-4332-8765-ad75af587abc",
   "metadata": {},
   "source": [
    "Hier ist die Lösung von Fahim noch einmal Schritt für Schritt im Beispiel:"
   ]
  },
  {
   "cell_type": "code",
   "execution_count": 14,
   "id": "94f69912-de0b-467c-b770-15f7895fd109",
   "metadata": {},
   "outputs": [
    {
     "data": {
      "text/plain": [
       "[34.5,\n",
       " 39.7,\n",
       " 21.3,\n",
       " 58.400000000000006,\n",
       " 18.5,\n",
       " 22.599999999999994,\n",
       " 55.599999999999994,\n",
       " 8.200000000000003,\n",
       " 8.700000000000003,\n",
       " 2.3999999999999986]"
      ]
     },
     "execution_count": 14,
     "metadata": {},
     "output_type": "execute_result"
    }
   ],
   "source": [
    "xs = sample_list\n",
    "x = 42\n",
    "diff_l = [abs(y-x) for y in xs]\n",
    "diff_l"
   ]
  },
  {
   "cell_type": "code",
   "execution_count": 15,
   "id": "0d0b7613-038f-4384-b894-e030a545b311",
   "metadata": {},
   "outputs": [
    {
     "data": {
      "text/plain": [
       "2.3999999999999986"
      ]
     },
     "execution_count": 15,
     "metadata": {},
     "output_type": "execute_result"
    }
   ],
   "source": [
    "nearest_diff = min(diff_l)\n",
    "nearest_diff"
   ]
  },
  {
   "cell_type": "code",
   "execution_count": 16,
   "id": "23d392a0-3c3b-4593-9831-5a10ab10cc42",
   "metadata": {},
   "outputs": [
    {
     "data": {
      "text/plain": [
       "8.200000000000003"
      ]
     },
     "execution_count": 16,
     "metadata": {},
     "output_type": "execute_result"
    }
   ],
   "source": [
    "nearest_diff_2 = min(d for d in diff_l if d != nearest_diff)\n",
    "nearest_diff_2"
   ]
  },
  {
   "cell_type": "code",
   "execution_count": 17,
   "id": "2518afaa-6f14-41cf-b18e-fc18bcc570cb",
   "metadata": {},
   "outputs": [
    {
     "data": {
      "text/plain": [
       "[9, 7]"
      ]
     },
     "execution_count": 17,
     "metadata": {},
     "output_type": "execute_result"
    }
   ],
   "source": [
    "[diff_l.index(nearest_diff), diff_l.index(nearest_diff_2)]"
   ]
  },
  {
   "cell_type": "markdown",
   "id": "aa4667d7-70fe-47f4-bbd3-c90202a6440b",
   "metadata": {},
   "source": [
    "**Aufgabe 4:** Schreibe eine Python-Funktion `find_nearest_k(xs, x, k)`, die in einer Liste `xs` nach dem Wert `x` sucht.\n",
    "Sie soll eine Liste mit den *Indices* der `k` Elemente in `xs` zurückgeben, die `x` am nächsten liegen.\n",
    "\n",
    "Beispiele:\n",
    "* `find_nearest_k(sample_list, 20, 3)` ergibt `[2, 4, 0]`\n",
    "* `find_nearest_k(sample_list, 66, 5)` ergibt `[5, 7, 9, 6, 8]`"
   ]
  },
  {
   "cell_type": "markdown",
   "id": "4cf7f152-6bd2-4a63-a42f-d8f510245961",
   "metadata": {},
   "source": [
    "Wir entwickeln die Lösung Schritt für Schritt:"
   ]
  },
  {
   "cell_type": "code",
   "execution_count": 18,
   "id": "5fca23bc-52e7-4648-b633-c978ebf2d27f",
   "metadata": {},
   "outputs": [
    {
     "data": {
      "text/plain": [
       "[34.5,\n",
       " 39.7,\n",
       " 21.3,\n",
       " 58.400000000000006,\n",
       " 18.5,\n",
       " 22.599999999999994,\n",
       " 55.599999999999994,\n",
       " 8.200000000000003,\n",
       " 8.700000000000003,\n",
       " 2.3999999999999986]"
      ]
     },
     "execution_count": 18,
     "metadata": {},
     "output_type": "execute_result"
    }
   ],
   "source": [
    "xs = sample_list\n",
    "x = 42\n",
    "diff_l = [abs(y-x) for y in xs]\n",
    "diff_l"
   ]
  },
  {
   "cell_type": "code",
   "execution_count": 19,
   "id": "53308396-d947-4735-9398-b1b687c72d9a",
   "metadata": {},
   "outputs": [
    {
     "data": {
      "text/plain": [
       "[2.3999999999999986, 8.200000000000003, 8.700000000000003]"
      ]
     },
     "execution_count": 19,
     "metadata": {},
     "output_type": "execute_result"
    }
   ],
   "source": [
    "smallest_diffs = sorted(diff_l)[:3]\n",
    "smallest_diffs"
   ]
  },
  {
   "cell_type": "code",
   "execution_count": 20,
   "id": "fd783655-c301-45b5-9a0f-f5f283718629",
   "metadata": {},
   "outputs": [
    {
     "data": {
      "text/plain": [
       "[9, 7, 8]"
      ]
     },
     "execution_count": 20,
     "metadata": {},
     "output_type": "execute_result"
    }
   ],
   "source": [
    "[diff_l.index(d) for d in smallest_diffs]"
   ]
  },
  {
   "cell_type": "markdown",
   "id": "29830787-731e-4088-87a1-e0169434d4d9",
   "metadata": {},
   "source": [
    "Jetzt können wir die geforderte Funktion programmieren:"
   ]
  },
  {
   "cell_type": "code",
   "execution_count": 21,
   "id": "2ddbfc55-455b-44ee-a191-4daba9271303",
   "metadata": {},
   "outputs": [],
   "source": [
    "def find_nearest_k(xs, x, k):\n",
    "    diff_l = [abs(y-x) for y in xs]\n",
    "    smallest_diffs = sorted(diff_l)[:k]\n",
    "    return [diff_l.index(d) for d in smallest_diffs]"
   ]
  },
  {
   "cell_type": "markdown",
   "id": "702e37fa-ffca-4deb-9031-1ddae3b02f71",
   "metadata": {},
   "source": [
    "Teste Deine Funktion, indem Du die folgenden beiden Zellen ausführst:"
   ]
  },
  {
   "cell_type": "code",
   "execution_count": 22,
   "id": "4f890357-6124-4d47-bb3f-efcc1576a28d",
   "metadata": {},
   "outputs": [
    {
     "data": {
      "text/plain": [
       "[2, 4, 0]"
      ]
     },
     "execution_count": 22,
     "metadata": {},
     "output_type": "execute_result"
    }
   ],
   "source": [
    "find_nearest_k(sample_list, 20, 3)"
   ]
  },
  {
   "cell_type": "code",
   "execution_count": 23,
   "id": "0f9d9539-d5cf-4dde-8f6c-e19b28b7691d",
   "metadata": {},
   "outputs": [
    {
     "data": {
      "text/plain": [
       "[5, 7, 9, 6, 8]"
      ]
     },
     "execution_count": 23,
     "metadata": {},
     "output_type": "execute_result"
    }
   ],
   "source": [
    "find_nearest_k(sample_list, 66, 5)"
   ]
  },
  {
   "cell_type": "markdown",
   "id": "88cc35d4-78f2-481f-aad2-47aafa3f808f",
   "metadata": {},
   "source": [
    "Für Fortgeschrittene:"
   ]
  },
  {
   "cell_type": "code",
   "execution_count": 24,
   "id": "096f4451-3704-4068-8893-4e9906e36f1b",
   "metadata": {},
   "outputs": [],
   "source": [
    "def find_nearest_k(xs, x, k):\n",
    "    return sorted(range(len(xs)), key=lambda i: abs(xs[i]-x))[:k]"
   ]
  },
  {
   "cell_type": "markdown",
   "id": "f38b9ae4-cd9c-480e-bff8-4867ce7f4319",
   "metadata": {},
   "source": [
    "**Aufgabe 5:** Schreibe eine Python-Funktion `average_nearest_k(xs, x, k)`, die in einer Liste `xs` nach dem Wert `x` sucht und dann den *Mittelwert* der $k$ nächsten Nachbarn liefert."
   ]
  },
  {
   "cell_type": "code",
   "execution_count": null,
   "id": "5616c94d-3a68-4597-bd43-194d3430ccc3",
   "metadata": {},
   "outputs": [],
   "source": []
  }
 ],
 "metadata": {
  "kernelspec": {
   "display_name": "Python 3 (ipykernel)",
   "language": "python",
   "name": "python3"
  },
  "language_info": {
   "codemirror_mode": {
    "name": "ipython",
    "version": 3
   },
   "file_extension": ".py",
   "mimetype": "text/x-python",
   "name": "python",
   "nbconvert_exporter": "python",
   "pygments_lexer": "ipython3",
   "version": "3.11.2"
  }
 },
 "nbformat": 4,
 "nbformat_minor": 5
}
