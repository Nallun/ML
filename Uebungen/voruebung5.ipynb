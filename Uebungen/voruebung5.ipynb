{
 "cells": [
  {
   "cell_type": "markdown",
   "id": "a64f6801-27d2-41b6-8b64-0967e63b9d71",
   "metadata": {},
   "source": [
    "# Machine Learning 1 – Vorübung 5\n",
    "(c)2023 by Harald Bögeholz\n",
    "\n",
    "---"
   ]
  },
  {
   "cell_type": "markdown",
   "id": "4d45047c-c060-42ad-9987-71ad4de0abd0",
   "metadata": {},
   "source": [
    "**Aufgabe 1:** Schreibe eine Funktion `square(xs)`, die als Parameter eine Liste annimmt und eine Liste ausgibt, in der alle Elemente quadridert sind.\n",
    "Beispiel: `square([2,4,6])` sollte die Liste `[4,16,36]` ausgeben."
   ]
  },
  {
   "cell_type": "code",
   "execution_count": 4,
   "id": "97acb3c0-46b3-41be-8261-7906c1dc6ed2",
   "metadata": {},
   "outputs": [
    {
     "data": {
      "text/plain": [
       "[4, 16, 36]"
      ]
     },
     "execution_count": 4,
     "metadata": {},
     "output_type": "execute_result"
    }
   ],
   "source": [
    "def square(xs):\n",
    "    result = []\n",
    "    for x in xs:\n",
    "        result.append(x**2)\n",
    "    return result\n",
    "square([2,4,6])    "
   ]
  },
  {
   "cell_type": "code",
   "execution_count": 1,
   "id": "5e6e9972-587f-4a42-a650-6daf406b2e4d",
   "metadata": {},
   "outputs": [
    {
     "data": {
      "text/plain": [
       "[4, 16, 36]"
      ]
     },
     "execution_count": 1,
     "metadata": {},
     "output_type": "execute_result"
    }
   ],
   "source": [
    "def square(xs):\n",
    "    return [x ** 2 for x in xs]\n",
    "square([2,4,6])"
   ]
  },
  {
   "cell_type": "markdown",
   "id": "b1f73d8f-8345-43d6-9256-96e24f0d82c3",
   "metadata": {},
   "source": [
    "Oder mit `numpy`:"
   ]
  },
  {
   "cell_type": "code",
   "execution_count": 2,
   "id": "3206f660-78d6-4adb-81d3-5b23ac10f440",
   "metadata": {},
   "outputs": [
    {
     "data": {
      "text/plain": [
       "array([ 4, 16, 36])"
      ]
     },
     "execution_count": 2,
     "metadata": {},
     "output_type": "execute_result"
    }
   ],
   "source": [
    "import numpy as np\n",
    "def square(xs):\n",
    "    a = np.array(xs)\n",
    "    return a ** 2\n",
    "square([2,4,6])  "
   ]
  },
  {
   "cell_type": "markdown",
   "id": "d2527ebe-daaf-486e-89f9-3ad1e3ce9baa",
   "metadata": {},
   "source": [
    "Achtung: Dies ist nicht ganz dasselbe, weil es ein Numpy-Array zurückgibt und nicht eine Python-Liste!"
   ]
  },
  {
   "cell_type": "markdown",
   "id": "6cd6276b-f984-4e76-aa2b-9e7ac4073706",
   "metadata": {},
   "source": [
    "**Aufgabe 2:** Schreibe eine Funktion `poly(xs, n)`. Die Parameter sind eine Liste von Zahlen `xs` und eine Ganzzahl `n`. Die Funktion soll eine Liste von Listen zurückliefern. Für jedes $x$ in `xs` soll sie die Liste $[x, x^2, \\ldots, x^n]$ liefern.\n",
    "\n",
    "Beispiel:\n",
    "```\n",
    ">>> poly([2,4,6,8], 3)\n",
    "[[2, 4, 8], [4, 16, 64], [6, 36, 216], [8, 64, 512]]\n",
    "```"
   ]
  },
  {
   "cell_type": "code",
   "execution_count": 12,
   "id": "d56da1a9-4081-497b-bb37-5d3bb1b3c739",
   "metadata": {},
   "outputs": [
    {
     "data": {
      "text/plain": [
       "[[2, 4, 8], [4, 16, 64], [6, 36, 216], [8, 64, 512]]"
      ]
     },
     "execution_count": 12,
     "metadata": {},
     "output_type": "execute_result"
    }
   ],
   "source": [
    "def poly(xs, n):\n",
    "    result = []\n",
    "    for x in xs:\n",
    "        result.append([x**n for n in range(1, n+1)])\n",
    "    return result\n",
    "poly([2,4,6,8], 3)"
   ]
  },
  {
   "cell_type": "code",
   "execution_count": 13,
   "id": "72234a4d-77bf-47e8-83ba-3fd6c65cce0a",
   "metadata": {},
   "outputs": [
    {
     "data": {
      "text/plain": [
       "[[2, 4, 8], [4, 16, 64], [6, 36, 216], [8, 64, 512]]"
      ]
     },
     "execution_count": 13,
     "metadata": {},
     "output_type": "execute_result"
    }
   ],
   "source": [
    "def poly(xs, n):\n",
    "    return [[x**i for i in range(1, n+1)] for x in xs]\n",
    "poly([2,4,6,8], 3)"
   ]
  },
  {
   "cell_type": "markdown",
   "id": "51df3b6f-5f95-4f67-b02f-7e60186b8fe2",
   "metadata": {},
   "source": [
    "Oder mit sklearn:"
   ]
  },
  {
   "cell_type": "code",
   "execution_count": 19,
   "id": "02fdf870-db09-4f31-92a4-9b9e6f226d74",
   "metadata": {},
   "outputs": [
    {
     "data": {
      "text/plain": [
       "array([[  2.,   4.,   8.],\n",
       "       [  4.,  16.,  64.],\n",
       "       [  6.,  36., 216.],\n",
       "       [  8.,  64., 512.]])"
      ]
     },
     "execution_count": 19,
     "metadata": {},
     "output_type": "execute_result"
    }
   ],
   "source": [
    "from sklearn.preprocessing import PolynomialFeatures\n",
    "def poly(xs, n):\n",
    "    pf = PolynomialFeatures(n, include_bias=False)\n",
    "    a = np.array(xs).reshape(-1, 1)\n",
    "    return pf.fit_transform(a)\n",
    "poly([2,4,6,8], 3)"
   ]
  },
  {
   "cell_type": "markdown",
   "id": "8b3f3721-2d4e-4782-aaf2-b44df8569cb4",
   "metadata": {},
   "source": [
    "**Achtung:** Das ist nicht dasselbe, weil es ein numpy-Array liefert. Strenggenommen ist dies also nicht die Lösung der Aufgabe!"
   ]
  },
  {
   "cell_type": "markdown",
   "id": "b95ebb48-e713-4073-a3bb-9ec8a2b1698f",
   "metadata": {},
   "source": [
    "**Aufgabe 3:** Bestimme den Abstand der beiden Punkte $$\\begin{pmatrix} 1 \\\\ 5 \\end{pmatrix}, \\begin{pmatrix} 4 \\\\ 1 \\end{pmatrix}$$\n",
    "Du kannst es von Hand oder mit Python machen."
   ]
  },
  {
   "cell_type": "markdown",
   "id": "b104861d-eb0a-4784-b5fa-d29899dbfe85",
   "metadata": {},
   "source": [
    "**Lösung:** $$\\left\\lVert \\begin{pmatrix} 1 \\\\ 5 \\end{pmatrix} - \\begin{pmatrix} 4 \\\\ 1 \\end{pmatrix} \\right\\rVert\n",
    "= \\left\\lVert \\begin{pmatrix} -3 \\\\ 4 \\end{pmatrix} \\right\\rVert = \\sqrt{(-3)^2 + 4^2} = \\sqrt{25} = 5.$$"
   ]
  },
  {
   "cell_type": "markdown",
   "id": "54245108-07f9-4e0a-aefa-7c1170934773",
   "metadata": {},
   "source": [
    "**Aufgabe 4:** Bestimme den Abstand der beiden Punkte $$\\begin{pmatrix} 7 \\\\ 7 \\\\ 7 \\end{pmatrix}, \\begin{pmatrix} 6 \\\\ 8 \\\\ 4 \\end{pmatrix}$$\n",
    "Du kannst es von Hand oder mit Python machen."
   ]
  },
  {
   "cell_type": "markdown",
   "id": "b33e312f-ea74-415e-805a-36981b4e3d36",
   "metadata": {},
   "source": [
    "**Lösung:** $$ \\left\\lVert \\begin{pmatrix} 7 \\\\ 7 \\\\ 7 \\end{pmatrix} - \\begin{pmatrix} 6 \\\\ 8 \\\\ 4 \\end{pmatrix} \\right\\rVert\n",
    "= \\left\\lVert \\begin{pmatrix} 1 \\\\ -1 \\\\ 3 \\end{pmatrix} \\right\\rVert =\n",
    "\\sqrt{1^2 + (-1)^2 + 3^2} = \\sqrt{11}$$"
   ]
  },
  {
   "cell_type": "code",
   "execution_count": null,
   "id": "194cf696-1f5d-42fb-bf8a-fe9f34f5779f",
   "metadata": {},
   "outputs": [],
   "source": []
  }
 ],
 "metadata": {
  "kernelspec": {
   "display_name": "Python 3 (ipykernel)",
   "language": "python",
   "name": "python3"
  },
  "language_info": {
   "codemirror_mode": {
    "name": "ipython",
    "version": 3
   },
   "file_extension": ".py",
   "mimetype": "text/x-python",
   "name": "python",
   "nbconvert_exporter": "python",
   "pygments_lexer": "ipython3",
   "version": "3.11.2"
  }
 },
 "nbformat": 4,
 "nbformat_minor": 5
}
