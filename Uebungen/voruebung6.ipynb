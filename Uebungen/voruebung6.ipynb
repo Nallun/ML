{
 "cells": [
  {
   "cell_type": "markdown",
   "id": "52810d2d-8a94-4092-a40f-bf65c205fd48",
   "metadata": {},
   "source": [
    "# Machine Learning 1 – Vorübung 6\n",
    "(c) 2023 by Harald Bögeholz\n",
    "\n",
    "---"
   ]
  },
  {
   "cell_type": "code",
   "execution_count": null,
   "id": "b35a4662-263b-43d9-a574-029aca55e3b5",
   "metadata": {},
   "outputs": [],
   "source": [
    "sample_list = [7.5, 2.3, 20.7, 100.4, 23.5, 64.6, 97.6, 50.2, 33.3, 44.4]"
   ]
  },
  {
   "cell_type": "markdown",
   "id": "f64b4946-29da-421c-a25a-be681cf38431",
   "metadata": {},
   "source": [
    "**Aufgabe 1:** Schreibe eine Python-Funktion `find_max(xs)`, die die größte Zahl in einer Liste `xs` \n",
    "findet. Die Funktion soll ein Tupel zurückliefern, \n",
    "bestehend aus dem Index der größten Zahl innhalb der Liste und der Zahl selbst.\n",
    "\n",
    "Beispiel: `find_max(sample_list)` soll das Tupel `(3, 100.4)` liefern."
   ]
  },
  {
   "cell_type": "code",
   "execution_count": null,
   "id": "3b105da5-c05d-4271-95d6-67cf66627bf4",
   "metadata": {},
   "outputs": [],
   "source": []
  },
  {
   "cell_type": "markdown",
   "id": "f6dca8f5-e9f1-4166-8cbf-cf323c38367b",
   "metadata": {},
   "source": [
    "Teste Deine Funktion, indem Du die folgende Zelle ausführst:"
   ]
  },
  {
   "cell_type": "code",
   "execution_count": null,
   "id": "67de9281-fb78-431a-af5f-27696aa1680e",
   "metadata": {},
   "outputs": [],
   "source": [
    "find_max(sample_list)"
   ]
  },
  {
   "cell_type": "markdown",
   "id": "693cd761-3623-49a8-a781-5a27008dc891",
   "metadata": {},
   "source": [
    "**Aufgabe 2:** Schreibe eine Python-Funktion `find_nearest(xs, x)`, die in einer Liste `xs` nach dem Wert `x` sucht und den *Index* des nächstgelegenen Werts in der Liste zurückgibt.\n",
    "\n",
    "Beispiele: \n",
    "* `find_nearest(sample_list, 50)` ergibt 7.\n",
    "* `find_nearest(sample_list, 20)` ergibt 2."
   ]
  },
  {
   "cell_type": "code",
   "execution_count": null,
   "id": "bfe5640b-483a-41d4-8ef3-5920ad0dbe21",
   "metadata": {},
   "outputs": [],
   "source": []
  },
  {
   "cell_type": "markdown",
   "id": "401ae938-6c57-4114-b21f-07ada3887f9b",
   "metadata": {},
   "source": [
    "Teste Deine Funktion, indem Du die folgenden beiden Zellen ausführst:"
   ]
  },
  {
   "cell_type": "code",
   "execution_count": null,
   "id": "59336194-4121-4d92-96ee-60d9b12d369b",
   "metadata": {},
   "outputs": [],
   "source": [
    "find_nearest(sample_list, 50)"
   ]
  },
  {
   "cell_type": "code",
   "execution_count": null,
   "id": "a743e681-eb74-42dc-a553-9a84b22afba3",
   "metadata": {},
   "outputs": [],
   "source": [
    "find_nearest(sample_list, 20)"
   ]
  },
  {
   "cell_type": "markdown",
   "id": "2641d8a0-df69-4037-bcf8-e058cbae4d6b",
   "metadata": {},
   "source": [
    "**Aufgabe 3:** Schreibe eine Python-Funktion `find_nearest_2(xs, x)`, die in einer Liste `xs` nach dem Wert `x`.\n",
    "Sie soll eine Liste mit den *Indices* der beiden Elemente in `xs` zurückgeben, die `x` am nächsten liegen.\n",
    "\n",
    "Beispiele:\n",
    "* `find_nearest_2(sample_list, 42)` ergibt `[9, 7]`\n",
    "* `find_nearest_2(sample_list, 10)` ergibt `[0, 1]`"
   ]
  },
  {
   "cell_type": "code",
   "execution_count": null,
   "id": "8d17e887-8577-4a99-a339-cc8db2dfbc26",
   "metadata": {},
   "outputs": [],
   "source": []
  },
  {
   "cell_type": "markdown",
   "id": "824750a1-dce7-4309-8deb-064d2d5764e3",
   "metadata": {},
   "source": [
    "Teste Deine Funktion, indem Du die folgenden beiden Zellen ausführst:"
   ]
  },
  {
   "cell_type": "code",
   "execution_count": null,
   "id": "f4fcffff-48e3-41da-aa89-8967752e0ad0",
   "metadata": {},
   "outputs": [],
   "source": [
    "find_nearest_2(sample_list, 42)"
   ]
  },
  {
   "cell_type": "code",
   "execution_count": null,
   "id": "7ad563b8-33e0-4718-bdd9-f89f1f6af33e",
   "metadata": {},
   "outputs": [],
   "source": [
    "find_nearest_2(sample_list, 10)"
   ]
  },
  {
   "cell_type": "markdown",
   "id": "aa4667d7-70fe-47f4-bbd3-c90202a6440b",
   "metadata": {},
   "source": [
    "**Aufgabe 4:** Schreibe eine Python-Funktion `find_nearest_k(xs, x, k)`, die in einer Liste `xs` nach dem Wert `x`.\n",
    "Sie soll eine Liste mit den *Indices* der `k` Elemente in `xs` zurückgeben, die `x` am nächsten liegen.\n",
    "\n",
    "Beispiele:\n",
    "* `find_nearest_k(sample_list, 20, 3)` ergibt `[2, 4, 0]`\n",
    "* `find_nearest_k(sample_list, 66, 5)` ergibt `[5, 7, 9, 6, 8]`"
   ]
  },
  {
   "cell_type": "code",
   "execution_count": null,
   "id": "5fca23bc-52e7-4648-b633-c978ebf2d27f",
   "metadata": {},
   "outputs": [],
   "source": []
  },
  {
   "cell_type": "markdown",
   "id": "702e37fa-ffca-4deb-9031-1ddae3b02f71",
   "metadata": {},
   "source": [
    "Teste Deine Funktion, indem Du die folgenden beiden Zellen ausführst:"
   ]
  },
  {
   "cell_type": "code",
   "execution_count": null,
   "id": "4f890357-6124-4d47-bb3f-efcc1576a28d",
   "metadata": {},
   "outputs": [],
   "source": [
    "find_nearest_k(sample_list, 20, 3)"
   ]
  },
  {
   "cell_type": "code",
   "execution_count": null,
   "id": "0f9d9539-d5cf-4dde-8f6c-e19b28b7691d",
   "metadata": {},
   "outputs": [],
   "source": [
    "find_nearest_k(sample_list, 66, 5)"
   ]
  },
  {
   "cell_type": "code",
   "execution_count": null,
   "id": "21bd4524-6ed2-4c32-8093-b1605a0e01e5",
   "metadata": {},
   "outputs": [],
   "source": []
  }
 ],
 "metadata": {
  "kernelspec": {
   "display_name": "Python 3 (ipykernel)",
   "language": "python",
   "name": "python3"
  },
  "language_info": {
   "codemirror_mode": {
    "name": "ipython",
    "version": 3
   },
   "file_extension": ".py",
   "mimetype": "text/x-python",
   "name": "python",
   "nbconvert_exporter": "python",
   "pygments_lexer": "ipython3",
   "version": "3.11.2"
  }
 },
 "nbformat": 4,
 "nbformat_minor": 5
}
